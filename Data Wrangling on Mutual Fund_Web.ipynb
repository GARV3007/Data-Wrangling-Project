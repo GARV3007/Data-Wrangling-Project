{
 "cells": [
  {
   "cell_type": "markdown",
   "metadata": {},
   "source": [
    "Name : Gourav Verma<br>\n",
    "Class : DSC540-T303<br>\n",
    "Assignment : Project_Milestone 3<br>\n",
    "Topic : Cleaning/Formatting Website Data<br>"
   ]
  },
  {
   "cell_type": "code",
   "execution_count": 1,
   "metadata": {},
   "outputs": [],
   "source": [
    "# Import necessary libraries\n",
    "from bs4 import BeautifulSoup\n",
    "import pandas as pd\n",
    "import requests\n",
    "import matplotlib.pyplot as plt"
   ]
  },
  {
   "cell_type": "code",
   "execution_count": 2,
   "metadata": {},
   "outputs": [],
   "source": [
    "# Function to Loop through each page and collect the data\n",
    "\n",
    "def readpage(soup):\n",
    "    symbols = []\n",
    "    names = []\n",
    "    changes = []\n",
    "    perchanges = []\n",
    "    printras = []\n",
    "    avg50s = []\n",
    "    avg200s = []\n",
    "    rtrn3mons = []\n",
    "\n",
    "    for row in soup.find_all('tbody'):\n",
    "        for srow in row.find_all('tr', attrs={'class':'simpTblRow'}):\n",
    "            for symbol in srow.find_all('td', attrs={'aria-label':'Symbol'}):\n",
    "                symbols.append(symbol.text)\n",
    "            for name in srow.find_all('td', attrs={'aria-label':'Name'}):\n",
    "                names.append(name.text)\n",
    "            for change in srow.find_all('td', attrs={'aria-label':'Change'}):\n",
    "                changes.append(change.text)\n",
    "            for perchange in srow.find_all('td', attrs={'aria-label':'% Change'}):\n",
    "                perchanges.append(perchange.text)\n",
    "            for printra in srow.find_all('td', attrs={'aria-label':'Price (Intraday)'}):\n",
    "                printras.append(printra.text)\n",
    "            for avg50 in srow.find_all('td', attrs={'aria-label':'50 Day Average'}):\n",
    "                avg50s.append(avg50.text)\n",
    "            for avg200 in srow.find_all('td', attrs={'aria-label':'200 Day Average'}):\n",
    "                avg200s.append(avg200.text)\n",
    "            \n",
    "    df = pd.DataFrame({\"Symbol\": symbols, \"Name\": names, \"Change\": changes, \"%_Change\": perchanges, \"50_Day_Avg\": avg50s, \n",
    "              \"200_Day_Avg\": avg200s})\n",
    "    return df"
   ]
  },
  {
   "cell_type": "code",
   "execution_count": 3,
   "metadata": {},
   "outputs": [],
   "source": [
    "# Function to Read top mutual funds from yahoo finance \n",
    "\n",
    "dfs = []\n",
    "def readweb():\n",
    "    for i in range(0, 1300, 100):\n",
    "        url = 'https://finance.yahoo.com/screener/predefined/top_mutual_funds?count=100&offset='+str(i)+''\n",
    "        webMF = requests.get(url).text\n",
    "        soup = BeautifulSoup(webMF)\n",
    "        df = readpage(soup)\n",
    "        dfs.append(df)                             # Append dataframes into a list\n",
    "        \n",
    "    df_MF = pd.concat(dfs, ignore_index=True)      # Concatenate all dataframes of each page into single dataframe\n",
    "    \n",
    "    return df_MF\n",
    "    "
   ]
  },
  {
   "cell_type": "code",
   "execution_count": 4,
   "metadata": {},
   "outputs": [
    {
     "data": {
      "text/html": [
       "<div>\n",
       "<style scoped>\n",
       "    .dataframe tbody tr th:only-of-type {\n",
       "        vertical-align: middle;\n",
       "    }\n",
       "\n",
       "    .dataframe tbody tr th {\n",
       "        vertical-align: top;\n",
       "    }\n",
       "\n",
       "    .dataframe thead th {\n",
       "        text-align: right;\n",
       "    }\n",
       "</style>\n",
       "<table border=\"1\" class=\"dataframe\">\n",
       "  <thead>\n",
       "    <tr style=\"text-align: right;\">\n",
       "      <th></th>\n",
       "      <th>Symbol</th>\n",
       "      <th>Name</th>\n",
       "      <th>Change</th>\n",
       "      <th>%_Change</th>\n",
       "      <th>50_Day_Avg</th>\n",
       "      <th>200_Day_Avg</th>\n",
       "    </tr>\n",
       "  </thead>\n",
       "  <tbody>\n",
       "    <tr>\n",
       "      <td>0</td>\n",
       "      <td>FSAIX</td>\n",
       "      <td>Fidelity Select Portfolios Air Transportation ...</td>\n",
       "      <td>-0.66</td>\n",
       "      <td>-1.45%</td>\n",
       "      <td>40.77</td>\n",
       "      <td>60.77</td>\n",
       "    </tr>\n",
       "    <tr>\n",
       "      <td>1</td>\n",
       "      <td>WESCX</td>\n",
       "      <td>TETON Westwood SmallCap Equity Fund Class AAA</td>\n",
       "      <td>-0.45</td>\n",
       "      <td>-2.95%</td>\n",
       "      <td>13.48</td>\n",
       "      <td>16.20</td>\n",
       "    </tr>\n",
       "    <tr>\n",
       "      <td>2</td>\n",
       "      <td>TFIFX</td>\n",
       "      <td>T. Rowe Price Financial Services Fund I Class</td>\n",
       "      <td>-0.29</td>\n",
       "      <td>-1.30%</td>\n",
       "      <td>20.29</td>\n",
       "      <td>24.73</td>\n",
       "    </tr>\n",
       "    <tr>\n",
       "      <td>3</td>\n",
       "      <td>FSSNX</td>\n",
       "      <td>Fidelity Small Cap Index Fund</td>\n",
       "      <td>-0.46</td>\n",
       "      <td>-2.52%</td>\n",
       "      <td>16.13</td>\n",
       "      <td>18.54</td>\n",
       "    </tr>\n",
       "    <tr>\n",
       "      <td>4</td>\n",
       "      <td>FSHOX</td>\n",
       "      <td>Fidelity Select Construction &amp; Housing Portfolio</td>\n",
       "      <td>-0.90</td>\n",
       "      <td>-1.58%</td>\n",
       "      <td>49.39</td>\n",
       "      <td>57.36</td>\n",
       "    </tr>\n",
       "  </tbody>\n",
       "</table>\n",
       "</div>"
      ],
      "text/plain": [
       "  Symbol                                               Name Change %_Change  \\\n",
       "0  FSAIX  Fidelity Select Portfolios Air Transportation ...  -0.66   -1.45%   \n",
       "1  WESCX      TETON Westwood SmallCap Equity Fund Class AAA  -0.45   -2.95%   \n",
       "2  TFIFX      T. Rowe Price Financial Services Fund I Class  -0.29   -1.30%   \n",
       "3  FSSNX                      Fidelity Small Cap Index Fund  -0.46   -2.52%   \n",
       "4  FSHOX   Fidelity Select Construction & Housing Portfolio  -0.90   -1.58%   \n",
       "\n",
       "  50_Day_Avg 200_Day_Avg  \n",
       "0      40.77       60.77  \n",
       "1      13.48       16.20  \n",
       "2      20.29       24.73  \n",
       "3      16.13       18.54  \n",
       "4      49.39       57.36  "
      ]
     },
     "execution_count": 4,
     "metadata": {},
     "output_type": "execute_result"
    }
   ],
   "source": [
    "# Collect data from yahoofinance.com into a dataframe\n",
    "df_MF = readweb() \n",
    "df_MF.head()"
   ]
  },
  {
   "cell_type": "code",
   "execution_count": 5,
   "metadata": {
    "scrolled": true
   },
   "outputs": [
    {
     "data": {
      "text/html": [
       "<div>\n",
       "<style scoped>\n",
       "    .dataframe tbody tr th:only-of-type {\n",
       "        vertical-align: middle;\n",
       "    }\n",
       "\n",
       "    .dataframe tbody tr th {\n",
       "        vertical-align: top;\n",
       "    }\n",
       "\n",
       "    .dataframe thead th {\n",
       "        text-align: right;\n",
       "    }\n",
       "</style>\n",
       "<table border=\"1\" class=\"dataframe\">\n",
       "  <thead>\n",
       "    <tr style=\"text-align: right;\">\n",
       "      <th></th>\n",
       "      <th>Symbol</th>\n",
       "      <th>Name</th>\n",
       "      <th>Change</th>\n",
       "      <th>%_Change</th>\n",
       "      <th>50_Day_Avg</th>\n",
       "      <th>200_Day_Avg</th>\n",
       "    </tr>\n",
       "  </thead>\n",
       "  <tbody>\n",
       "    <tr>\n",
       "      <td>count</td>\n",
       "      <td>1300</td>\n",
       "      <td>1300</td>\n",
       "      <td>1300</td>\n",
       "      <td>1300</td>\n",
       "      <td>1300</td>\n",
       "      <td>1300</td>\n",
       "    </tr>\n",
       "    <tr>\n",
       "      <td>unique</td>\n",
       "      <td>1239</td>\n",
       "      <td>1239</td>\n",
       "      <td>178</td>\n",
       "      <td>349</td>\n",
       "      <td>1014</td>\n",
       "      <td>1031</td>\n",
       "    </tr>\n",
       "    <tr>\n",
       "      <td>top</td>\n",
       "      <td>FELAX</td>\n",
       "      <td>Cohen &amp; Steers Institutional Realty Shares</td>\n",
       "      <td>0.00</td>\n",
       "      <td>0.00%</td>\n",
       "      <td>14.48</td>\n",
       "      <td>16.55</td>\n",
       "    </tr>\n",
       "    <tr>\n",
       "      <td>freq</td>\n",
       "      <td>2</td>\n",
       "      <td>2</td>\n",
       "      <td>57</td>\n",
       "      <td>57</td>\n",
       "      <td>5</td>\n",
       "      <td>5</td>\n",
       "    </tr>\n",
       "  </tbody>\n",
       "</table>\n",
       "</div>"
      ],
      "text/plain": [
       "       Symbol                                        Name Change %_Change  \\\n",
       "count    1300                                        1300   1300     1300   \n",
       "unique   1239                                        1239    178      349   \n",
       "top     FELAX  Cohen & Steers Institutional Realty Shares   0.00    0.00%   \n",
       "freq        2                                           2     57       57   \n",
       "\n",
       "       50_Day_Avg 200_Day_Avg  \n",
       "count        1300        1300  \n",
       "unique       1014        1031  \n",
       "top         14.48       16.55  \n",
       "freq            5           5  "
      ]
     },
     "execution_count": 5,
     "metadata": {},
     "output_type": "execute_result"
    }
   ],
   "source": [
    "df_MF.describe()"
   ]
  },
  {
   "cell_type": "markdown",
   "metadata": {},
   "source": [
    "**As per the website filter for the list is-**<br>\n",
    "Price(Intraday) > 15<br>\n",
    "Morningstar rating = 4 or 5<br>\n",
    "Initial Minimum Investment = 1000 <br>\n",
    "Exchange = Nasdaq<br> "
   ]
  },
  {
   "cell_type": "markdown",
   "metadata": {},
   "source": [
    "#### Find Duplicates"
   ]
  },
  {
   "cell_type": "markdown",
   "metadata": {},
   "source": [
    "In previous runs I have found some dubplicate entries in website. Below code is to remove duplicates."
   ]
  },
  {
   "cell_type": "code",
   "execution_count": 6,
   "metadata": {},
   "outputs": [
    {
     "name": "stdout",
     "output_type": "stream",
     "text": [
      "<class 'pandas.core.frame.DataFrame'>\n",
      "RangeIndex: 1239 entries, 0 to 1238\n",
      "Data columns (total 6 columns):\n",
      "Symbol         1239 non-null object\n",
      "Name           1239 non-null object\n",
      "Change         1239 non-null object\n",
      "%_Change       1239 non-null object\n",
      "50_Day_Avg     1239 non-null object\n",
      "200_Day_Avg    1239 non-null object\n",
      "dtypes: object(6)\n",
      "memory usage: 58.2+ KB\n",
      "Duplicate entries in the dataframe was :  61\n"
     ]
    }
   ],
   "source": [
    "df_MF1 = df_MF.drop_duplicates(subset ='Symbol', keep = 'first', inplace = False)\n",
    "df_MF1 = df_MF1.reset_index(drop=True)\n",
    "df_MF1.info()\n",
    "print('Duplicate entries in the dataframe was : ', df_MF.duplicated(['Symbol']).sum())"
   ]
  },
  {
   "cell_type": "markdown",
   "metadata": {},
   "source": [
    "#### Format Data"
   ]
  },
  {
   "cell_type": "code",
   "execution_count": 7,
   "metadata": {},
   "outputs": [
    {
     "name": "stdout",
     "output_type": "stream",
     "text": [
      "<class 'pandas.core.frame.DataFrame'>\n",
      "RangeIndex: 1239 entries, 0 to 1238\n",
      "Data columns (total 6 columns):\n",
      "Symbol         1239 non-null object\n",
      "Name           1239 non-null object\n",
      "Change         1239 non-null float64\n",
      "%_Change       1239 non-null float64\n",
      "50_Day_Avg     1239 non-null float64\n",
      "200_Day_Avg    1239 non-null float64\n",
      "dtypes: float64(4), object(2)\n",
      "memory usage: 58.2+ KB\n"
     ]
    }
   ],
   "source": [
    "# Remove % and + signs from Columns\n",
    "df_MF1['%_Change'] = df_MF1['%_Change'].str.replace('%', '')\n",
    "df_MF1['%_Change'] = df_MF1['%_Change'].str.replace('+', '')\n",
    "df_MF1['Change'] = df_MF1['Change'].str.replace('+', '')\n",
    "\n",
    "# Format variables as float\n",
    "df_MF1['Change'] = df_MF1['Change'].astype('float')\n",
    "df_MF1['%_Change'] = df_MF1['%_Change'].astype('float')\n",
    "df_MF1['50_Day_Avg'] = df_MF1['50_Day_Avg'].astype('float')\n",
    "df_MF1['200_Day_Avg'] = df_MF1['200_Day_Avg'].astype('float')\n",
    "\n",
    "\n",
    "df_MF1.info()"
   ]
  },
  {
   "cell_type": "markdown",
   "metadata": {},
   "source": [
    "#### Find Outliers"
   ]
  },
  {
   "cell_type": "code",
   "execution_count": 8,
   "metadata": {},
   "outputs": [
    {
     "data": {
      "text/plain": [
       "{'whiskers': [<matplotlib.lines.Line2D at 0x1f095097608>,\n",
       "  <matplotlib.lines.Line2D at 0x1f09509b908>],\n",
       " 'caps': [<matplotlib.lines.Line2D at 0x1f09509c308>,\n",
       "  <matplotlib.lines.Line2D at 0x1f08f7a4208>],\n",
       " 'boxes': [<matplotlib.lines.Line2D at 0x1f09509a9c8>],\n",
       " 'medians': [<matplotlib.lines.Line2D at 0x1f094994208>],\n",
       " 'fliers': [<matplotlib.lines.Line2D at 0x1f092f05a08>],\n",
       " 'means': []}"
      ]
     },
     "execution_count": 8,
     "metadata": {},
     "output_type": "execute_result"
    },
    {
     "data": {
      "image/png": "[encoded data removed]",
      "text/plain": [
       "<Figure size 432x288 with 1 Axes>"
      ]
     },
     "metadata": {
      "needs_background": "light"
     },
     "output_type": "display_data"
    }
   ],
   "source": [
    "plt.boxplot(df_MF1['%_Change'])"
   ]
  },
  {
   "cell_type": "markdown",
   "metadata": {},
   "source": [
    "Rest of the data looks good. So no further transformation required. "
   ]
  },
  {
   "cell_type": "code",
   "execution_count": 9,
   "metadata": {},
   "outputs": [],
   "source": [
    "# Write Final Dataframe into CSV file\n",
    "\n",
    "df_MF1.to_csv('MF_Web.csv')"
   ]
  },
  {
   "cell_type": "code",
   "execution_count": null,
   "metadata": {},
   "outputs": [],
   "source": []
  }
 ],
 "metadata": {
  "kernelspec": {
   "display_name": "Python 3",
   "language": "python",
   "name": "python3"
  },
  "language_info": {
   "codemirror_mode": {
    "name": "ipython",
    "version": 3
   },
   "file_extension": ".py",
   "mimetype": "text/x-python",
   "name": "python",
   "nbconvert_exporter": "python",
   "pygments_lexer": "ipython3",
   "version": "3.7.4"
  }
 },
 "nbformat": 4,
 "nbformat_minor": 2
}
